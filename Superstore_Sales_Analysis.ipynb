{
 "cells": [
  {
   "cell_type": "markdown",
   "id": "91f77d09",
   "metadata": {},
   "source": [
    "# Superstore Sales Data Analysis Project\n",
    "---\n",
    "### Project Overview\n",
    "This project analyzes the sales data of a fictional retail store (Superstore) to extract meaningful business insights.\n",
    "\n",
    "**Dataset:** `Sample - Superstore.csv`\n",
    "\n",
    "**Objectives:**\n",
    "- Explore sales patterns by category, sub-category, and geography\n",
    "- Analyze profit and discounts\n",
    "- Study sales trends over time\n",
    "- Perform customer segmentation using RFM analysis\n",
    "\n",
    "**Tools:** Python, Pandas, Matplotlib, Seaborn, Jupyter Notebook\n"
   ]
  },
  {
   "cell_type": "markdown",
   "id": "e4f70ceb",
   "metadata": {},
   "source": [
    "## 1. Import Libraries & Load Data"
   ]
  },
  {
   "cell_type": "code",
   "execution_count": null,
   "id": "89912279",
   "metadata": {},
   "outputs": [],
   "source": [
    "import pandas as pd\n",
    "import matplotlib.pyplot as plt\n",
    "import seaborn as sns\n",
    "\n",
    "sns.set_style('whitegrid')\n",
    "sns.set_palette('muted')\n",
    "\n",
    "# Load data\n",
    "df = pd.read_csv('Sample - Superstore.csv', encoding='latin1')\n",
    "\n",
    "# Preview data\n",
    "df.head()"
   ]
  },
  {
   "cell_type": "markdown",
   "id": "161435a6",
   "metadata": {},
   "source": [
    "## 2. Data Cleaning & Preprocessing"
   ]
  },
  {
   "cell_type": "code",
   "execution_count": null,
   "id": "520caa2e",
   "metadata": {},
   "outputs": [],
   "source": [
    "# Check for missing values\n",
    "print(df.isnull().sum())\n",
    "\n",
    "# Drop duplicates if any\n",
    "df = df.drop_duplicates()\n",
    "\n",
    "# Convert 'Order Date' to datetime\n",
    "df['Order Date'] = pd.to_datetime(df['Order Date'], errors='coerce')\n",
    "\n",
    "# Verify changes\n",
    "df.info()"
   ]
  },
  {
   "cell_type": "markdown",
   "id": "f2c51f3c",
   "metadata": {},
   "source": [
    "## 3. Exploratory Data Analysis (EDA)"
   ]
  },
  {
   "cell_type": "markdown",
   "id": "c907d24b",
   "metadata": {},
   "source": [
    "### 3.1 Sales by Category"
   ]
  },
  {
   "cell_type": "code",
   "execution_count": null,
   "id": "73bbb52b",
   "metadata": {},
   "outputs": [],
   "source": [
    "sales_by_category = df.groupby('Category')['Sales'].sum().sort_values(ascending=False)\n",
    "plt.figure(figsize=(8,5))\n",
    "sns.barplot(x=sales_by_category.index, y=sales_by_category.values)\n",
    "plt.title('Total Sales by Category')\n",
    "plt.xlabel('Category')\n",
    "plt.ylabel('Sales')\n",
    "plt.show()"
   ]
  },
  {
   "cell_type": "markdown",
   "id": "65337660",
   "metadata": {},
   "source": [
    "### 3.2 Top 10 Sub-Categories by Sales"
   ]
  },
  {
   "cell_type": "code",
   "execution_count": null,
   "id": "e077b6b3",
   "metadata": {},
   "outputs": [],
   "source": [
    "top_subcategories = df.groupby('Sub-Category')['Sales'].sum().sort_values(ascending=False).head(10)\n",
    "plt.figure(figsize=(10,6))\n",
    "sns.barplot(x=top_subcategories.index, y=top_subcategories.values)\n",
    "plt.title('Top 10 Sub-Categories by Sales')\n",
    "plt.xticks(rotation=45)\n",
    "plt.show()"
   ]
  },
  {
   "cell_type": "markdown",
   "id": "817e1a54",
   "metadata": {},
   "source": [
    "### 3.3 Sales Over Time"
   ]
  },
  {
   "cell_type": "code",
   "execution_count": null,
   "id": "98d26a1b",
   "metadata": {},
   "outputs": [],
   "source": [
    "df['Year'] = df['Order Date'].dt.year\n",
    "df['Month'] = df['Order Date'].dt.month\n",
    "sales_by_month = df.groupby(['Year', 'Month'])['Sales'].sum().reset_index()\n",
    "sales_by_month['Year-Month'] = sales_by_month['Year'].astype(str) + '-' + sales_by_month['Month'].astype(str)\n",
    "\n",
    "plt.figure(figsize=(12,6))\n",
    "sns.lineplot(data=sales_by_month, x='Year-Month', y='Sales', marker='o')\n",
    "plt.title('Monthly Sales Over Time')\n",
    "plt.xticks(rotation=45)\n",
    "plt.xlabel('Year-Month')\n",
    "plt.ylabel('Sales')\n",
    "plt.show()"
   ]
  },
  {
   "cell_type": "markdown",
   "id": "98fee53b",
   "metadata": {},
   "source": [
    "### 3.4 Profit and Discount Analysis"
   ]
  },
  {
   "cell_type": "code",
   "execution_count": null,
   "id": "85b1d30d",
   "metadata": {},
   "outputs": [],
   "source": [
    "profit_by_category = df.groupby('Category')['Profit'].sum().sort_values(ascending=False)\n",
    "plt.figure(figsize=(8,5))\n",
    "sns.barplot(x=profit_by_category.index, y=profit_by_category.values)\n",
    "plt.title('Total Profit by Category')\n",
    "plt.xlabel('Category')\n",
    "plt.ylabel('Profit')\n",
    "plt.show()"
   ]
  },
  {
   "cell_type": "code",
   "execution_count": null,
   "id": "37943845",
   "metadata": {},
   "outputs": [],
   "source": [
    "plt.figure(figsize=(8,6))\n",
    "sns.scatterplot(x='Discount', y='Profit', data=df)\n",
    "plt.title('Discount vs Profit')\n",
    "plt.show()"
   ]
  },
  {
   "cell_type": "markdown",
   "id": "cdd1a6a7",
   "metadata": {},
   "source": [
    "## 4. Geographic Analysis"
   ]
  },
  {
   "cell_type": "code",
   "execution_count": null,
   "id": "2ee1c732",
   "metadata": {},
   "outputs": [],
   "source": [
    "sales_by_region = df.groupby('Region')['Sales'].sum().sort_values(ascending=False)\n",
    "plt.figure(figsize=(8,5))\n",
    "sns.barplot(x=sales_by_region.index, y=sales_by_region.values)\n",
    "plt.title('Total Sales by Region')\n",
    "plt.xlabel('Region')\n",
    "plt.ylabel('Sales')\n",
    "plt.show()"
   ]
  },
  {
   "cell_type": "code",
   "execution_count": null,
   "id": "147d1bd5",
   "metadata": {},
   "outputs": [],
   "source": [
    "top_states = df.groupby('State')['Sales'].sum().sort_values(ascending=False).head(10)\n",
    "plt.figure(figsize=(12,6))\n",
    "sns.barplot(x=top_states.index, y=top_states.values)\n",
    "plt.title('Top 10 States by Sales')\n",
    "plt.xticks(rotation=45)\n",
    "plt.xlabel('State')\n",
    "plt.ylabel('Sales')\n",
    "plt.show()"
   ]
  },
  {
   "cell_type": "markdown",
   "id": "47586a4a",
   "metadata": {},
   "source": [
    "## 5. Customer Segmentation Using RFM Analysis"
   ]
  },
  {
   "cell_type": "code",
   "execution_count": null,
   "id": "466e6d37",
   "metadata": {},
   "outputs": [],
   "source": [
    "# Recency, Frequency, Monetary (RFM) analysis\n",
    "import datetime as dt\n",
    "\n",
    "# Reference date (day after last order)\n",
    "snapshot_date = df['Order Date'].max() + pd.Timedelta(days=1)\n",
    "\n",
    "# Calculate R, F, M\n",
    "rfm = df.groupby('Customer ID').agg({\n",
    "    'Order Date': lambda x: (snapshot_date - x.max()).days,\n",
    "    'Order ID': 'nunique',\n",
    "    'Sales': 'sum'\n",
    "})\n",
    "rfm.rename(columns={'Order Date': 'Recency', 'Order ID': 'Frequency', 'Sales': 'Monetary'}, inplace=True)\n",
    "\n",
    "# Display head\n",
    "rfm.head()"
   ]
  },
  {
   "cell_type": "markdown",
   "id": "88ce0038",
   "metadata": {},
   "source": [
    "### 5.1 RFM Score and Segmentation"
   ]
  },
  {
   "cell_type": "code",
   "execution_count": null,
   "id": "e5d9a3a9",
   "metadata": {},
   "outputs": [],
   "source": [
    "# Assign scores 1-5 for each R, F, M\n",
    "rfm['R_Score'] = pd.qcut(rfm['Recency'], 5, labels=range(5,0,-1))\n",
    "rfm['F_Score'] = pd.qcut(rfm['Frequency'], 5, labels=range(1,6))\n",
    "rfm['M_Score'] = pd.qcut(rfm['Monetary'], 5, labels=range(1,6))\n",
    "\n",
    "# Calculate RFM Segment\n",
    "rfm['RFM_Segment'] = rfm['R_Score'].astype(str) + rfm['F_Score'].astype(str) + rfm['M_Score'].astype(str)\n",
    "\n",
    "# Calculate RFM Score\n",
    "rfm['RFM_Score'] = rfm[['R_Score', 'F_Score', 'M_Score']].astype(int).sum(axis=1)\n",
    "\n",
    "rfm.head()"
   ]
  },
  {
   "cell_type": "markdown",
   "id": "6b912707",
   "metadata": {},
   "source": [
    "### 5.2 Visualize RFM Segments Distribution"
   ]
  },
  {
   "cell_type": "code",
   "execution_count": null,
   "id": "3d2d9b66",
   "metadata": {},
   "outputs": [],
   "source": [
    "plt.figure(figsize=(10,5))\n",
    "sns.countplot(x='RFM_Score', data=rfm)\n",
    "plt.title('Distribution of RFM Scores')\n",
    "plt.show()"
   ]
  },
  {
   "cell_type": "markdown",
   "id": "71a9c86e",
   "metadata": {},
   "source": [
    "## 6. Conclusion\n",
    "This analysis provided valuable insights into the Superstore's sales performance, profitability, and customer segments. \n",
    "\n",
    "Key points:\n",
    "- Electronics and Furniture are the top sales categories\n",
    "- Sales and profit trends show seasonality\n",
    "- Customer segmentation via RFM can guide marketing efforts\n",
    "\n",
    "Next steps could include predictive modeling for sales forecasting or deeper customer behavior analysis."
   ]
  }
 ],
 "metadata": {
  "language_info": {
   "name": "python"
  }
 },
 "nbformat": 4,
 "nbformat_minor": 5
}
